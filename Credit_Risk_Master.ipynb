{
 "cells": [
  {
   "cell_type": "code",
   "execution_count": 1,
   "id": "b9fdee2c",
   "metadata": {},
   "outputs": [],
   "source": [
    "import numpy as np\n",
    "import pandas as pd\n",
    "import matplotlib\n",
    "import matplotlib.pyplot as plt\n",
    "import seaborn as sns\n",
    "from sklearn.linear_model import LogisticRegression\n",
    "import statsmodels.api as sm\n",
    "from statsmodels.stats.outliers_influence import variance_inflation_factor\n",
    "from statsmodels.tools.tools import add_constant\n",
    "from scipy.stats.stats import pearsonr\n",
    "import itertools\n",
    "import os\n",
    "from IPython.core.interactiveshell import InteractiveShell\n",
    "InteractiveShell.ast_node_interactivity = \"all\"\n",
    "%matplotlib inline\n",
    "from sklearn import preprocessing\n",
    "from datetime import datetime, timedelta\n",
    "from sklearn.model_selection import train_test_split\n",
    "import xgboost as xgb\n",
    "from sklearn.model_selection import cross_val_score\n",
    "from sklearn.metrics import confusion_matrix\n",
    "from sklearn.metrics import accuracy_score\n",
    "from sklearn.metrics import balanced_accuracy_score\n",
    "from xgboost import plot_tree\n",
    "from sklearn.metrics import roc_curve, auc\n",
    "from sklearn.metrics import roc_auc_score\n",
    "from sklearn.linear_model import RidgeClassifier\n",
    "from sklearn.linear_model import Lasso\n",
    "from sklearn.svm import SVC\n",
    "from sklearn import svm\n",
    "import Helper_Func as H"
   ]
  },
  {
   "cell_type": "code",
   "execution_count": 2,
   "metadata": {},
   "outputs": [],
   "source": [
    "pd.options.display.max_rows = 410\n",
    "pd.options.display.max_columns = 40"
   ]
  },
  {
   "cell_type": "markdown",
   "id": "1b89a482",
   "metadata": {},
   "source": [
    "## Data Loading and Cleaning"
   ]
  },
  {
   "cell_type": "markdown",
   "id": "a0e4f70b",
   "metadata": {},
   "source": [
    "We are interested in predicting whether a credit loan would be charged off given other attributes of the loan.\n",
    "\n",
    "For data cleaning, we start with only considering loans that are either fully paid or charged off, since we do not know the future state of a loan in the process of being paid off or charged off. \n",
    "\n",
    "We notice that many columns are dense with missing values. We choose to drop all columns that consists of more than 90% missing values, and we further choose to drop all rows containing missing values, which is around 20% of all observations. We then would drop all the columns that satisfy at least one of the following criteria:  \n",
    "    - Contains post-origination information  \n",
    "    - Obviously does not relate to charge off information (e.g., ID)  \n",
    "    - Is a categorical column containing many categories (greater than 50)  \n",
    "    - Has a Pearson correlation of over 60%  \n",
    "    \n",
    "We apply transformations to the covariates to fit them into a standard normal distribution. These include log, square root, and cube root.\n",
    "\n",
    "We then apply one-hot/dummy encoding to the categorical columns, dropping one column of each to avoid multicollinearity. We are left with a dataframe of 1090611 observations and 62 covariates plus the outcome variable.\n",
    "\n",
    "See Helper_Func.py for the data cleaning function."
   ]
  },
  {
   "cell_type": "code",
   "execution_count": 3,
   "id": "5513418f",
   "metadata": {},
   "outputs": [
    {
     "name": "stderr",
     "output_type": "stream",
     "text": [
      "/usr/local/linux/anaconda3.8/lib/python3.8/site-packages/IPython/core/interactiveshell.py:3169: DtypeWarning: Columns (0,19,49,59,118,129,130,131,134,135,136,139,145,146,147) have mixed types.Specify dtype option on import or set low_memory=False.\n",
      "  has_raised = await self.run_ast_nodes(code_ast.body, cell_name,\n"
     ]
    }
   ],
   "source": [
    "data = pd.read_csv(\"accepted_2007_to_2018Q4.csv\")"
   ]
  },
  {
   "cell_type": "code",
   "execution_count": 4,
   "id": "6d897637",
   "metadata": {},
   "outputs": [],
   "source": [
    "cleaned_data = H.CleanData(data)"
   ]
  },
  {
   "cell_type": "code",
   "execution_count": 5,
   "metadata": {},
   "outputs": [
    {
     "data": {
      "text/plain": [
       "(1090611, 63)"
      ]
     },
     "execution_count": 5,
     "metadata": {},
     "output_type": "execute_result"
    }
   ],
   "source": [
    "cleaned_data.shape"
   ]
  },
  {
   "cell_type": "markdown",
   "id": "de4b4a45",
   "metadata": {},
   "source": [
    "# Regression Analysis"
   ]
  },
  {
   "cell_type": "markdown",
   "id": "2a604c7d",
   "metadata": {},
   "source": [
    "Our first approach is logistic regression. We first run individual logistic regressions of loan_status against each covariate separately. We then select 53 out of 62 covariates with the greatest significance, indicated by the magnitude of the t-statistic, for a multiple logistic regression. Many of the coefficients of the most significant variables agree with intuition. For instance, borrowers with higher annual income or FICO score are less likely to default on their loan, while borrowers who take out larger loans are more likely to default."
   ]
  },
  {
   "cell_type": "code",
   "execution_count": 6,
   "id": "4856c46a",
   "metadata": {},
   "outputs": [],
   "source": [
    "splitdata=H.DataSplit(cleaned_data,0.1,0.1,seed=0)"
   ]
  },
  {
   "cell_type": "code",
   "execution_count": 7,
   "id": "fbd68996",
   "metadata": {},
   "outputs": [],
   "source": [
    "trainingdata = splitdata[0]\n",
    "validationdata = splitdata[1]\n",
    "testdata = splitdata[2]"
   ]
  },
  {
   "cell_type": "code",
   "execution_count": 8,
   "id": "5f5166c6",
   "metadata": {},
   "outputs": [],
   "source": [
    "# Set up statified data\n",
    "X_train= trainingdata.drop([\"loan_status\"],axis=1)\n",
    "y_train = trainingdata[[\"loan_status\"]]\n",
    "X_test = testdata.drop([\"loan_status\"],axis=1)\n",
    "y_test = testdata[[\"loan_status\"]]\n",
    "X_valid = validationdata.drop([\"loan_status\"],axis=1)\n",
    "y_valid = validationdata[[\"loan_status\"]]"
   ]
  },
  {
   "cell_type": "code",
   "execution_count": 9,
   "id": "0114caea",
   "metadata": {},
   "outputs": [],
   "source": [
    "# Write a function to perform the logistic regression\n",
    "# Inputs: \n",
    "#    X: 2D array\n",
    "#    y: Charged Off variable (1d array)\n",
    "# Output: [coefficient, t-value]\n",
    "\n",
    "def regress_log(X, y):\n",
    "    \n",
    "    log_reg = sm.Logit(np.asarray(y), X).fit(disp=0)\n",
    "    \n",
    "    return [log_reg.params, log_reg.t_test('x1=0').tvalue]"
   ]
  },
  {
   "cell_type": "code",
   "execution_count": 10,
   "id": "e52439a5",
   "metadata": {},
   "outputs": [],
   "source": [
    "names_list = cleaned_data.columns[0:len(cleaned_data.columns) - 1]"
   ]
  },
  {
   "cell_type": "code",
   "execution_count": 11,
   "id": "d93ec786",
   "metadata": {},
   "outputs": [],
   "source": [
    "# Initialize results dataframe\n",
    "reg_results = pd.DataFrame(np.zeros((len(names_list), 3)))\n",
    "reg_results[0] = names_list\n",
    "reg_results = reg_results.set_axis(['name','coef','t-stat'], axis = 1)"
   ]
  },
  {
   "cell_type": "code",
   "execution_count": 12,
   "id": "7a225f7f",
   "metadata": {},
   "outputs": [
    {
     "name": "stderr",
     "output_type": "stream",
     "text": [
      "<ipython-input-12-b6e889e3f2b5>:6: SettingWithCopyWarning: \n",
      "A value is trying to be set on a copy of a slice from a DataFrame\n",
      "\n",
      "See the caveats in the documentation: https://pandas.pydata.org/pandas-docs/stable/user_guide/indexing.html#returning-a-view-versus-a-copy\n",
      "  reg_results['coef'][i] = results[0][0]\n",
      "<ipython-input-12-b6e889e3f2b5>:7: SettingWithCopyWarning: \n",
      "A value is trying to be set on a copy of a slice from a DataFrame\n",
      "\n",
      "See the caveats in the documentation: https://pandas.pydata.org/pandas-docs/stable/user_guide/indexing.html#returning-a-view-versus-a-copy\n",
      "  reg_results['t-stat'][i] = np.abs(results[1][0])\n",
      "/usr/local/linux/anaconda3.8/lib/python3.8/site-packages/statsmodels/base/model.py:567: ConvergenceWarning: Maximum Likelihood optimization failed to converge. Check mle_retvals\n",
      "  warn(\"Maximum Likelihood optimization failed to converge. \"\n"
     ]
    }
   ],
   "source": [
    "# Loop the regression over all variable names\n",
    "for i in range(len(names_list)):\n",
    "    X = np.array(X_train[names_list[i]]).reshape(-1,1)\n",
    "    results = regress_log(X, y_train)\n",
    "    \n",
    "    reg_results['coef'][i] = results[0][0]\n",
    "    reg_results['t-stat'][i] = np.abs(results[1][0])"
   ]
  },
  {
   "cell_type": "code",
   "execution_count": 13,
   "id": "c74c16fd",
   "metadata": {},
   "outputs": [
    {
     "data": {
      "text/html": [
       "<div>\n",
       "<style scoped>\n",
       "    .dataframe tbody tr th:only-of-type {\n",
       "        vertical-align: middle;\n",
       "    }\n",
       "\n",
       "    .dataframe tbody tr th {\n",
       "        vertical-align: top;\n",
       "    }\n",
       "\n",
       "    .dataframe thead th {\n",
       "        text-align: right;\n",
       "    }\n",
       "</style>\n",
       "<table border=\"1\" class=\"dataframe\">\n",
       "  <thead>\n",
       "    <tr style=\"text-align: right;\">\n",
       "      <th></th>\n",
       "      <th>name</th>\n",
       "      <th>coef</th>\n",
       "      <th>t-stat</th>\n",
       "    </tr>\n",
       "  </thead>\n",
       "  <tbody>\n",
       "    <tr>\n",
       "      <th>0</th>\n",
       "      <td>loan_amnt</td>\n",
       "      <td>0.118067</td>\n",
       "      <td>54.919182</td>\n",
       "    </tr>\n",
       "    <tr>\n",
       "      <th>1</th>\n",
       "      <td>annual_inc</td>\n",
       "      <td>-0.098705</td>\n",
       "      <td>45.882366</td>\n",
       "    </tr>\n",
       "    <tr>\n",
       "      <th>2</th>\n",
       "      <td>dti</td>\n",
       "      <td>0.157289</td>\n",
       "      <td>72.485142</td>\n",
       "    </tr>\n",
       "    <tr>\n",
       "      <th>3</th>\n",
       "      <td>delinq_2yrs</td>\n",
       "      <td>0.029353</td>\n",
       "      <td>13.701852</td>\n",
       "    </tr>\n",
       "    <tr>\n",
       "      <th>4</th>\n",
       "      <td>fico_range_low</td>\n",
       "      <td>-0.203322</td>\n",
       "      <td>93.704637</td>\n",
       "    </tr>\n",
       "  </tbody>\n",
       "</table>\n",
       "</div>"
      ],
      "text/plain": [
       "             name      coef     t-stat\n",
       "0       loan_amnt  0.118067  54.919182\n",
       "1      annual_inc -0.098705  45.882366\n",
       "2             dti  0.157289  72.485142\n",
       "3     delinq_2yrs  0.029353  13.701852\n",
       "4  fico_range_low -0.203322  93.704637"
      ]
     },
     "execution_count": 13,
     "metadata": {},
     "output_type": "execute_result"
    }
   ],
   "source": [
    "reg_results.head()"
   ]
  },
  {
   "cell_type": "code",
   "execution_count": 14,
   "id": "b36c6b9d",
   "metadata": {},
   "outputs": [
    {
     "data": {
      "text/html": [
       "<div>\n",
       "<style scoped>\n",
       "    .dataframe tbody tr th:only-of-type {\n",
       "        vertical-align: middle;\n",
       "    }\n",
       "\n",
       "    .dataframe tbody tr th {\n",
       "        vertical-align: top;\n",
       "    }\n",
       "\n",
       "    .dataframe thead th {\n",
       "        text-align: right;\n",
       "    }\n",
       "</style>\n",
       "<table border=\"1\" class=\"dataframe\">\n",
       "  <thead>\n",
       "    <tr style=\"text-align: right;\">\n",
       "      <th></th>\n",
       "      <th>name</th>\n",
       "      <th>coef</th>\n",
       "      <th>t-stat</th>\n",
       "    </tr>\n",
       "  </thead>\n",
       "  <tbody>\n",
       "    <tr>\n",
       "      <th>60</th>\n",
       "      <td>initial_list_status_w</td>\n",
       "      <td>-1.435545</td>\n",
       "      <td>413.621307</td>\n",
       "    </tr>\n",
       "    <tr>\n",
       "      <th>40</th>\n",
       "      <td>home_ownership_MORTGAGE</td>\n",
       "      <td>-1.615845</td>\n",
       "      <td>398.502240</td>\n",
       "    </tr>\n",
       "    <tr>\n",
       "      <th>48</th>\n",
       "      <td>purpose_debt_consolidation</td>\n",
       "      <td>-1.359522</td>\n",
       "      <td>392.943499</td>\n",
       "    </tr>\n",
       "    <tr>\n",
       "      <th>45</th>\n",
       "      <td>verification_status_Source Verified</td>\n",
       "      <td>-1.348237</td>\n",
       "      <td>328.848404</td>\n",
       "    </tr>\n",
       "    <tr>\n",
       "      <th>30</th>\n",
       "      <td>emp_length_10+ years</td>\n",
       "      <td>-1.490514</td>\n",
       "      <td>320.710706</td>\n",
       "    </tr>\n",
       "    <tr>\n",
       "      <th>44</th>\n",
       "      <td>home_ownership_RENT</td>\n",
       "      <td>-1.228064</td>\n",
       "      <td>300.784721</td>\n",
       "    </tr>\n",
       "    <tr>\n",
       "      <th>47</th>\n",
       "      <td>purpose_credit_card</td>\n",
       "      <td>-1.646349</td>\n",
       "      <td>266.390589</td>\n",
       "    </tr>\n",
       "    <tr>\n",
       "      <th>46</th>\n",
       "      <td>verification_status_Verified</td>\n",
       "      <td>-1.207383</td>\n",
       "      <td>251.200522</td>\n",
       "    </tr>\n",
       "    <tr>\n",
       "      <th>43</th>\n",
       "      <td>home_ownership_OWN</td>\n",
       "      <td>-1.415489</td>\n",
       "      <td>168.422180</td>\n",
       "    </tr>\n",
       "    <tr>\n",
       "      <th>29</th>\n",
       "      <td>term_ 60 months</td>\n",
       "      <td>-0.761320</td>\n",
       "      <td>165.921210</td>\n",
       "    </tr>\n",
       "  </tbody>\n",
       "</table>\n",
       "</div>"
      ],
      "text/plain": [
       "                                   name      coef      t-stat\n",
       "60                initial_list_status_w -1.435545  413.621307\n",
       "40              home_ownership_MORTGAGE -1.615845  398.502240\n",
       "48           purpose_debt_consolidation -1.359522  392.943499\n",
       "45  verification_status_Source Verified -1.348237  328.848404\n",
       "30                 emp_length_10+ years -1.490514  320.710706\n",
       "44                  home_ownership_RENT -1.228064  300.784721\n",
       "47                  purpose_credit_card -1.646349  266.390589\n",
       "46         verification_status_Verified -1.207383  251.200522\n",
       "43                   home_ownership_OWN -1.415489  168.422180\n",
       "29                      term_ 60 months -0.761320  165.921210"
      ]
     },
     "execution_count": 14,
     "metadata": {},
     "output_type": "execute_result"
    }
   ],
   "source": [
    "# Order the results by t-statistic\n",
    "sorted_results = reg_results.sort_values(by = 't-stat', axis = 0, ascending = False)\n",
    "\n",
    "top53 = sorted_results.head(53)\n",
    "top53.head(10)"
   ]
  },
  {
   "cell_type": "code",
   "execution_count": 15,
   "id": "72a1e9ab",
   "metadata": {},
   "outputs": [],
   "source": [
    "names_53 = top53['name']"
   ]
  },
  {
   "cell_type": "markdown",
   "id": "4e2a6fb3",
   "metadata": {},
   "source": [
    "## Multiple Logistic Regression"
   ]
  },
  {
   "cell_type": "markdown",
   "metadata": {},
   "source": [
    "We fit a multiple logistic regression model using the aforementioned 53 covariates on the training set, then predict loan_status for the test set. One issue we ran into here was that including 54 or more covariates would result in a singular matrix. We address this later by using ridge regression.  \n",
    "\n",
    "The predictions give probabilities of default, which are between 0 and 1. In order to convert these probabilities to binary predictions, we use the receiver operating characteristic (ROC) curve to find the optimal probability threshold at which a loan should be predicted to default. In this case, the optimal threshold is 0.18702.  \n",
    "\n",
    "From our predictions, we obtain a balanced accuracy score of 0.65122. We use the balanced accuracy score since the outcome variable, loan_status is unevenly split between the two categories - about 80% fully paid and 20% defaulted loans. The balanced accuracy formula rebalances the score to be between 0.5 and 1."
   ]
  },
  {
   "cell_type": "code",
   "execution_count": 16,
   "id": "d09c058c",
   "metadata": {},
   "outputs": [],
   "source": [
    "top_names = list(sorted_results.iloc[0:53]['name'].values)"
   ]
  },
  {
   "cell_type": "code",
   "execution_count": 17,
   "id": "01c5202c",
   "metadata": {},
   "outputs": [],
   "source": [
    "#Using 53 covariates\n",
    "log_reg_mult = sm.Logit(np.asarray(y_train), X_train[top_names]).fit(disp=0)"
   ]
  },
  {
   "cell_type": "code",
   "execution_count": 18,
   "id": "533edae1",
   "metadata": {},
   "outputs": [],
   "source": [
    "#Find optimal ROC cutoff\n",
    "y_pred = log_reg_mult.predict(X_valid[top_names])"
   ]
  },
  {
   "cell_type": "code",
   "execution_count": 19,
   "id": "b62279b0",
   "metadata": {},
   "outputs": [
    {
     "data": {
      "image/png": "[encoded data removed]",
      "text/plain": [
       "<Figure size 432x288 with 1 Axes>"
      ]
     },
     "metadata": {
      "needs_background": "light"
     },
     "output_type": "display_data"
    },
    {
     "name": "stdout",
     "output_type": "stream",
     "text": [
      "Optimal Threshold: 0.18701962144750753\n"
     ]
    },
    {
     "data": {
      "text/plain": [
       "[array([1.83732878, 0.83732878, 0.81747434, ..., 0.01289546, 0.01288991,\n",
       "        0.00632105]),\n",
       " 18867]"
      ]
     },
     "execution_count": 19,
     "metadata": {},
     "output_type": "execute_result"
    }
   ],
   "source": [
    "H.ROC_cutoff(y_pred, y_valid)"
   ]
  },
  {
   "cell_type": "code",
   "execution_count": 20,
   "id": "84c009fb",
   "metadata": {},
   "outputs": [],
   "source": [
    "# Get some accuracy metrics\n",
    "log_reg_preds = (log_reg_mult.predict(X_test[top_names]) >= 0.1870196214475139).astype(int)\n",
    "log_reg_BA = balanced_accuracy_score(y_test, log_reg_preds)\n",
    "log_reg_recal = confusion_matrix(y_test, log_reg_preds)[1,1]/(confusion_matrix(y_test, log_reg_preds)[1,1]+confusion_matrix(y_test, log_reg_preds)[1,0])\n",
    "log_reg_prec = confusion_matrix(y_test, log_reg_preds)[1,1]/(confusion_matrix(y_test, log_reg_preds)[1,1]+confusion_matrix(y_test, log_reg_preds)[0,1])\n",
    "log_reg_F1 = 2 * log_reg_prec * log_reg_recal/(log_reg_prec+log_reg_recal)"
   ]
  },
  {
   "cell_type": "code",
   "execution_count": 21,
   "id": "deccf36e",
   "metadata": {},
   "outputs": [
    {
     "name": "stdout",
     "output_type": "stream",
     "text": [
      "Log Reg Balanced Accuracy: 0.6512199908122926\n",
      "Log Reg F1: 0.4159850084773491\n",
      "Log Reg Recall: 0.6694911197280865\n"
     ]
    }
   ],
   "source": [
    "print('Log Reg Balanced Accuracy:',log_reg_BA)\n",
    "print('Log Reg F1:',log_reg_F1)\n",
    "print('Log Reg Recall:',log_reg_recal)"
   ]
  },
  {
   "cell_type": "code",
   "execution_count": 22,
   "id": "e72edcdb",
   "metadata": {},
   "outputs": [
    {
     "name": "stdout",
     "output_type": "stream",
     "text": [
      "                           Logit Regression Results                           \n",
      "==============================================================================\n",
      "Dep. Variable:                      y   No. Observations:               872488\n",
      "Model:                          Logit   Df Residuals:                   872435\n",
      "Method:                           MLE   Df Model:                           52\n",
      "Date:                Mon, 04 Apr 2022   Pseudo R-squ.:                 0.09008\n",
      "Time:                        22:04:58   Log-Likelihood:            -3.8907e+05\n",
      "converged:                       True   LL-Null:                   -4.2759e+05\n",
      "Covariance Type:            nonrobust   LLR p-value:                     0.000\n",
      "=======================================================================================================\n",
      "                                          coef    std err          z      P>|z|      [0.025      0.975]\n",
      "-------------------------------------------------------------------------------------------------------\n",
      "initial_list_status_w                   0.0044      0.006      0.730      0.466      -0.007       0.016\n",
      "home_ownership_MORTGAGE                -1.9719      0.033    -59.094      0.000      -2.037      -1.906\n",
      "purpose_debt_consolidation             -0.0647      0.031     -2.068      0.039      -0.126      -0.003\n",
      "verification_status_Source Verified     0.1613      0.007     21.812      0.000       0.147       0.176\n",
      "emp_length_10+ years                   -0.0317      0.012     -2.661      0.008      -0.055      -0.008\n",
      "home_ownership_RENT                    -1.7511      0.033    -52.569      0.000      -1.816      -1.686\n",
      "purpose_credit_card                    -0.2132      0.032     -6.718      0.000      -0.275      -0.151\n",
      "verification_status_Verified            0.1752      0.008     21.775      0.000       0.159       0.191\n",
      "home_ownership_OWN                     -1.8606      0.034    -54.607      0.000      -1.927      -1.794\n",
      "term_ 60 months                         0.8811      0.007    130.535      0.000       0.868       0.894\n",
      "emp_length_2 years                     -0.0414      0.014     -2.968      0.003      -0.069      -0.014\n",
      "emp_length_3 years                     -0.0337      0.014     -2.352      0.019      -0.062      -0.006\n",
      "emp_length_lessthan 1 year              0.0199      0.014      1.395      0.163      -0.008       0.048\n",
      "purpose_home_improvement                0.0818      0.033      2.460      0.014       0.017       0.147\n",
      "emp_length_5 years                     -0.0543      0.015     -3.536      0.000      -0.084      -0.024\n",
      "emp_length_4 years                     -0.0568      0.016     -3.652      0.000      -0.087      -0.026\n",
      "purpose_other                           0.2129      0.033      6.419      0.000       0.148       0.278\n",
      "emp_length_6 years                     -0.0706      0.017     -4.221      0.000      -0.103      -0.038\n",
      "emp_length_8 years                     -0.0311      0.017     -1.860      0.063      -0.064       0.002\n",
      "emp_length_7 years                     -0.0671      0.017     -3.967      0.000      -0.100      -0.034\n",
      "emp_length_9 years                     -0.0022      0.018     -0.125      0.901      -0.037       0.032\n",
      "fico_range_low                         -0.1892      0.004    -47.792      0.000      -0.197      -0.181\n",
      "purpose_major_purchase                  0.1340      0.037      3.615      0.000       0.061       0.207\n",
      "acc_open_past_24mths                    0.2045      0.004     47.958      0.000       0.196       0.213\n",
      "dti                                     0.2301      0.005     50.079      0.000       0.221       0.239\n",
      "application_type_Joint App             -0.1161      0.021     -5.655      0.000      -0.156      -0.076\n",
      "mort_acc                               -0.1158      0.004    -26.532      0.000      -0.124      -0.107\n",
      "loan_amnt                               0.2752      0.004     66.530      0.000       0.267       0.283\n",
      "total_bc_limit                         -0.1285      0.004    -30.530      0.000      -0.137      -0.120\n",
      "purpose_medical                         0.3283      0.041      8.062      0.000       0.248       0.408\n",
      "mo_sin_rcnt_tl                         -0.0211      0.004     -5.501      0.000      -0.029      -0.014\n",
      "mo_sin_old_rev_tl_op                   -0.0649      0.004    -18.497      0.000      -0.072      -0.058\n",
      "tot_cur_bal                            -0.0711      0.006    -12.613      0.000      -0.082      -0.060\n",
      "inq_last_6mths                          0.0907      0.003     30.551      0.000       0.085       0.097\n",
      "annual_inc                             -0.1101      0.005    -22.368      0.000      -0.120      -0.100\n",
      "mths_since_recent_bc                   -0.0806      0.004    -21.882      0.000      -0.088      -0.073\n",
      "revol_util                              0.1136      0.004     27.890      0.000       0.106       0.122\n",
      "purpose_vacation                        0.2559      0.047      5.409      0.000       0.163       0.349\n",
      "purpose_moving                          0.3707      0.045      8.232      0.000       0.282       0.459\n",
      "purpose_house                           0.1137      0.049      2.300      0.021       0.017       0.211\n",
      "purpose_small_business                  0.7026      0.040     17.553      0.000       0.624       0.781\n",
      "open_acc                                0.0376      0.004      8.958      0.000       0.029       0.046\n",
      "mo_sin_old_il_acct                     -0.0356      0.003    -11.565      0.000      -0.042      -0.030\n",
      "pub_rec                                 0.0193      0.003      6.508      0.000       0.013       0.025\n",
      "tot_coll_amt                           -0.0003      0.003     -0.094      0.925      -0.006       0.006\n",
      "purpose_wedding                        -0.3834      0.126     -3.044      0.002      -0.630      -0.137\n",
      "num_accts_ever_120_pd                   0.0097      0.004      2.591      0.010       0.002       0.017\n",
      "delinq_2yrs                             0.0703      0.003     21.371      0.000       0.064       0.077\n",
      "num_bc_tl                              -0.0403      0.004     -9.929      0.000      -0.048      -0.032\n",
      "total_bal_ex_mort                      -0.0884      0.006    -16.054      0.000      -0.099      -0.078\n",
      "purpose_renewable_energy                0.3271      0.112      2.932      0.003       0.108       0.546\n",
      "collections_12_mths_ex_med              0.0165      0.003      6.067      0.000       0.011       0.022\n",
      "pct_tl_nvr_dlq                          0.0066      0.004      1.570      0.116      -0.002       0.015\n",
      "=======================================================================================================\n"
     ]
    }
   ],
   "source": [
    "print(log_reg_mult.summary())"
   ]
  },
  {
   "cell_type": "markdown",
   "id": "48ca2c39",
   "metadata": {},
   "source": [
    "## Multiple Logistic Regression With Interactions"
   ]
  },
  {
   "cell_type": "markdown",
   "metadata": {},
   "source": [
    "Next, we explore the possibility of interactions within our data. In order to determine which interaction terms to include, we find the correlation between each pair of covariates and select the pairs with the highest magnitude of correlation. Our reasoning is that the more related two variables are, the more likely they are to have an underlying interaction.  \n",
    "\n",
    "After including the interaction terms, we see a marginal increase in the balanced accuracy score to 0.65309 (previously 0.65122). "
   ]
  },
  {
   "cell_type": "code",
   "execution_count": 23,
   "id": "1176cce3",
   "metadata": {},
   "outputs": [],
   "source": [
    "def corr_analysis(data):\n",
    "    correlations = {}\n",
    "    names_list = data.columns[0:len(data.columns) - 1]\n",
    "    for col_a, col_b in itertools.combinations(names_list, 2):\n",
    "        correlations[col_a + '__' + col_b] = pearsonr(data.loc[:, col_a], data.loc[:, col_b])\n",
    "\n",
    "    corr_result = pd.DataFrame.from_dict(correlations, orient='index')\n",
    "    corr_result.columns = ['PCC', 'p-value']\n",
    "    corr_result['abs_PCC'] = np.abs(corr_result['PCC'])\n",
    "    top_20 = corr_result.sort_values('abs_PCC', ascending=False).head(20)\n",
    "    return(top_20)"
   ]
  },
  {
   "cell_type": "code",
   "execution_count": 24,
   "id": "c7ecabbc",
   "metadata": {},
   "outputs": [
    {
     "data": {
      "text/html": [
       "<div>\n",
       "<style scoped>\n",
       "    .dataframe tbody tr th:only-of-type {\n",
       "        vertical-align: middle;\n",
       "    }\n",
       "\n",
       "    .dataframe tbody tr th {\n",
       "        vertical-align: top;\n",
       "    }\n",
       "\n",
       "    .dataframe thead th {\n",
       "        text-align: right;\n",
       "    }\n",
       "</style>\n",
       "<table border=\"1\" class=\"dataframe\">\n",
       "  <thead>\n",
       "    <tr style=\"text-align: right;\">\n",
       "      <th></th>\n",
       "      <th>PCC</th>\n",
       "      <th>p-value</th>\n",
       "      <th>abs_PCC</th>\n",
       "    </tr>\n",
       "  </thead>\n",
       "  <tbody>\n",
       "    <tr>\n",
       "      <th>mort_acc__tot_cur_bal</th>\n",
       "      <td>0.637524</td>\n",
       "      <td>0.0</td>\n",
       "      <td>0.637524</td>\n",
       "    </tr>\n",
       "    <tr>\n",
       "      <th>home_ownership_MORTGAGE__tot_cur_bal</th>\n",
       "      <td>0.586099</td>\n",
       "      <td>0.0</td>\n",
       "      <td>0.586099</td>\n",
       "    </tr>\n",
       "    <tr>\n",
       "      <th>home_ownership_MORTGAGE__mort_acc</th>\n",
       "      <td>0.581781</td>\n",
       "      <td>0.0</td>\n",
       "      <td>0.581781</td>\n",
       "    </tr>\n",
       "    <tr>\n",
       "      <th>acc_open_past_24mths__mo_sin_rcnt_tl</th>\n",
       "      <td>-0.574404</td>\n",
       "      <td>0.0</td>\n",
       "      <td>0.574404</td>\n",
       "    </tr>\n",
       "    <tr>\n",
       "      <th>home_ownership_RENT__mort_acc</th>\n",
       "      <td>-0.559912</td>\n",
       "      <td>0.0</td>\n",
       "      <td>0.559912</td>\n",
       "    </tr>\n",
       "    <tr>\n",
       "      <th>home_ownership_RENT__tot_cur_bal</th>\n",
       "      <td>-0.555346</td>\n",
       "      <td>0.0</td>\n",
       "      <td>0.555346</td>\n",
       "    </tr>\n",
       "    <tr>\n",
       "      <th>tot_cur_bal__total_bal_ex_mort</th>\n",
       "      <td>0.541504</td>\n",
       "      <td>0.0</td>\n",
       "      <td>0.541504</td>\n",
       "    </tr>\n",
       "    <tr>\n",
       "      <th>total_bc_limit__num_bc_tl</th>\n",
       "      <td>0.532175</td>\n",
       "      <td>0.0</td>\n",
       "      <td>0.532175</td>\n",
       "    </tr>\n",
       "    <tr>\n",
       "      <th>tot_cur_bal__annual_inc</th>\n",
       "      <td>0.521186</td>\n",
       "      <td>0.0</td>\n",
       "      <td>0.521186</td>\n",
       "    </tr>\n",
       "    <tr>\n",
       "      <th>mo_sin_rcnt_tl__mths_since_recent_bc</th>\n",
       "      <td>0.510115</td>\n",
       "      <td>0.0</td>\n",
       "      <td>0.510115</td>\n",
       "    </tr>\n",
       "    <tr>\n",
       "      <th>dti__total_bal_ex_mort</th>\n",
       "      <td>0.502535</td>\n",
       "      <td>0.0</td>\n",
       "      <td>0.502535</td>\n",
       "    </tr>\n",
       "    <tr>\n",
       "      <th>open_acc__num_bc_tl</th>\n",
       "      <td>0.498927</td>\n",
       "      <td>0.0</td>\n",
       "      <td>0.498927</td>\n",
       "    </tr>\n",
       "    <tr>\n",
       "      <th>open_acc__total_bal_ex_mort</th>\n",
       "      <td>0.468587</td>\n",
       "      <td>0.0</td>\n",
       "      <td>0.468587</td>\n",
       "    </tr>\n",
       "    <tr>\n",
       "      <th>loan_amnt__annual_inc</th>\n",
       "      <td>0.467477</td>\n",
       "      <td>0.0</td>\n",
       "      <td>0.467477</td>\n",
       "    </tr>\n",
       "    <tr>\n",
       "      <th>acc_open_past_24mths__mths_since_recent_bc</th>\n",
       "      <td>-0.467216</td>\n",
       "      <td>0.0</td>\n",
       "      <td>0.467216</td>\n",
       "    </tr>\n",
       "    <tr>\n",
       "      <th>acc_open_past_24mths__open_acc</th>\n",
       "      <td>0.460920</td>\n",
       "      <td>0.0</td>\n",
       "      <td>0.460920</td>\n",
       "    </tr>\n",
       "    <tr>\n",
       "      <th>annual_inc__total_bal_ex_mort</th>\n",
       "      <td>0.425302</td>\n",
       "      <td>0.0</td>\n",
       "      <td>0.425302</td>\n",
       "    </tr>\n",
       "  </tbody>\n",
       "</table>\n",
       "</div>"
      ],
      "text/plain": [
       "                                                 PCC  p-value   abs_PCC\n",
       "mort_acc__tot_cur_bal                       0.637524      0.0  0.637524\n",
       "home_ownership_MORTGAGE__tot_cur_bal        0.586099      0.0  0.586099\n",
       "home_ownership_MORTGAGE__mort_acc           0.581781      0.0  0.581781\n",
       "acc_open_past_24mths__mo_sin_rcnt_tl       -0.574404      0.0  0.574404\n",
       "home_ownership_RENT__mort_acc              -0.559912      0.0  0.559912\n",
       "home_ownership_RENT__tot_cur_bal           -0.555346      0.0  0.555346\n",
       "tot_cur_bal__total_bal_ex_mort              0.541504      0.0  0.541504\n",
       "total_bc_limit__num_bc_tl                   0.532175      0.0  0.532175\n",
       "tot_cur_bal__annual_inc                     0.521186      0.0  0.521186\n",
       "mo_sin_rcnt_tl__mths_since_recent_bc        0.510115      0.0  0.510115\n",
       "dti__total_bal_ex_mort                      0.502535      0.0  0.502535\n",
       "open_acc__num_bc_tl                         0.498927      0.0  0.498927\n",
       "open_acc__total_bal_ex_mort                 0.468587      0.0  0.468587\n",
       "loan_amnt__annual_inc                       0.467477      0.0  0.467477\n",
       "acc_open_past_24mths__mths_since_recent_bc -0.467216      0.0  0.467216\n",
       "acc_open_past_24mths__open_acc              0.460920      0.0  0.460920\n",
       "annual_inc__total_bal_ex_mort               0.425302      0.0  0.425302"
      ]
     },
     "execution_count": 24,
     "metadata": {},
     "output_type": "execute_result"
    }
   ],
   "source": [
    "corr_result = corr_analysis(X_train[names_53])\n",
    "# Drop the interactions between pairs from the same categorical column, as they would be all 0.\n",
    "corr_result = corr_result.drop(['home_ownership_MORTGAGE__home_ownership_RENT',\n",
    "                                'purpose_debt_consolidation__purpose_credit_card',\n",
    "                                'verification_status_Source Verified__verification_status_Verified'], axis=0)\n",
    "corr_result"
   ]
  },
  {
   "cell_type": "code",
   "execution_count": 25,
   "id": "883c49ac",
   "metadata": {},
   "outputs": [],
   "source": [
    "corr_names = list(corr_result.index)"
   ]
  },
  {
   "cell_type": "code",
   "execution_count": 26,
   "id": "1c9175d5",
   "metadata": {},
   "outputs": [],
   "source": [
    "# Create the interaction terms\n",
    "for i in corr_names:\n",
    "    two_names = i.split(sep = \"__\")\n",
    "    X_train[i] = X_train[two_names[0]] * X_train[two_names[1]]\n",
    "    X_test[i] = X_test[two_names[0]] * X_test[two_names[1]]\n",
    "    X_valid[i] = X_valid[two_names[0]] * X_valid[two_names[1]]"
   ]
  },
  {
   "cell_type": "code",
   "execution_count": 27,
   "id": "6fa8b7d3",
   "metadata": {},
   "outputs": [],
   "source": [
    "#Some custom interactions we thought might have value\n",
    "X_train['loan_amnt__fico_range_low'] = X_train['loan_amnt'] * X_train['fico_range_low']\n",
    "X_test['loan_amnt__fico_range_low'] = X_test['loan_amnt'] * X_test['fico_range_low']\n",
    "X_valid['loan_amnt__fico_range_low'] = X_valid['loan_amnt'] * X_valid['fico_range_low']\n",
    "X_train['dti__fico_range_low'] = X_train['dti'] * X_train['fico_range_low']\n",
    "X_test['dti__fico_range_low'] = X_test['dti'] * X_test['fico_range_low']\n",
    "X_valid['dti__fico_range_low'] = X_valid['dti'] * X_valid['fico_range_low']\n"
   ]
  },
  {
   "cell_type": "code",
   "execution_count": 28,
   "id": "f0007e70",
   "metadata": {},
   "outputs": [],
   "source": [
    "top_names = list(sorted_results.iloc[0:53]['name'].values)\n",
    "top_names = np.append(top_names,corr_names)\n",
    "manual_names = ['loan_amnt__fico_range_low','dti__fico_range_low']\n",
    "top_names = np.append(top_names,manual_names)"
   ]
  },
  {
   "cell_type": "code",
   "execution_count": 29,
   "id": "edb3ab0d",
   "metadata": {},
   "outputs": [],
   "source": [
    "#Using 53 covariates plus interaction terms\n",
    "log_reg_mult = sm.Logit(np.asarray(y_train), X_train[top_names]).fit(disp=0)"
   ]
  },
  {
   "cell_type": "code",
   "execution_count": 30,
   "id": "7edbf3fa",
   "metadata": {},
   "outputs": [],
   "source": [
    "#Find optimal ROC cutoff\n",
    "y_pred = log_reg_mult.predict(X_valid[top_names])"
   ]
  },
  {
   "cell_type": "code",
   "execution_count": 31,
   "id": "07fecbef",
   "metadata": {},
   "outputs": [
    {
     "data": {
      "image/png": "[encoded data removed]",
      "text/plain": [
       "<Figure size 432x288 with 1 Axes>"
      ]
     },
     "metadata": {
      "needs_background": "light"
     },
     "output_type": "display_data"
    },
    {
     "name": "stdout",
     "output_type": "stream",
     "text": [
      "Optimal Threshold: 0.18973962194363958\n"
     ]
    },
    {
     "data": {
      "text/plain": [
       "[array([1.83366956, 0.83366956, 0.83085731, ..., 0.01583668, 0.01583204,\n",
       "        0.00694998]),\n",
       " 18343]"
      ]
     },
     "execution_count": 31,
     "metadata": {},
     "output_type": "execute_result"
    }
   ],
   "source": [
    "H.ROC_cutoff(y_pred, y_valid)"
   ]
  },
  {
   "cell_type": "code",
   "execution_count": 32,
   "id": "a6bd630d",
   "metadata": {},
   "outputs": [],
   "source": [
    "# Accuracy metrics\n",
    "log_reg_preds = (log_reg_mult.predict(X_test[top_names]) >= 0.193204696).astype(int)\n",
    "log_reg_BA = balanced_accuracy_score(y_test, log_reg_preds)\n",
    "log_reg_recal = confusion_matrix(y_test, log_reg_preds)[1,1]/(confusion_matrix(y_test, log_reg_preds)[1,1]+confusion_matrix(y_test, log_reg_preds)[1,0])\n",
    "log_reg_prec = confusion_matrix(y_test, log_reg_preds)[1,1]/(confusion_matrix(y_test, log_reg_preds)[1,1]+confusion_matrix(y_test, log_reg_preds)[0,1])\n",
    "log_reg_F1 = 2 * log_reg_prec * log_reg_recal/(log_reg_prec+log_reg_recal)"
   ]
  },
  {
   "cell_type": "code",
   "execution_count": 33,
   "id": "cb72c3e3",
   "metadata": {},
   "outputs": [
    {
     "name": "stdout",
     "output_type": "stream",
     "text": [
      "Log Reg Balanced Accuracy: 0.653094121646493\n",
      "Log Reg F1: 0.4192073641614926\n",
      "Log Reg Recall: 0.6496720762123606\n"
     ]
    }
   ],
   "source": [
    "print('Log Reg Balanced Accuracy:',log_reg_BA)\n",
    "print('Log Reg F1:',log_reg_F1)\n",
    "print('Log Reg Recall:',log_reg_recal)"
   ]
  },
  {
   "cell_type": "code",
   "execution_count": 34,
   "id": "40663349",
   "metadata": {},
   "outputs": [
    {
     "name": "stdout",
     "output_type": "stream",
     "text": [
      "                           Logit Regression Results                           \n",
      "==============================================================================\n",
      "Dep. Variable:                      y   No. Observations:               872488\n",
      "Model:                          Logit   Df Residuals:                   872416\n",
      "Method:                           MLE   Df Model:                           71\n",
      "Date:                Mon, 04 Apr 2022   Pseudo R-squ.:                 0.09095\n",
      "Time:                        22:07:29   Log-Likelihood:            -3.8870e+05\n",
      "converged:                       True   LL-Null:                   -4.2759e+05\n",
      "Covariance Type:            nonrobust   LLR p-value:                     0.000\n",
      "==============================================================================================================\n",
      "                                                 coef    std err          z      P>|z|      [0.025      0.975]\n",
      "--------------------------------------------------------------------------------------------------------------\n",
      "initial_list_status_w                          0.0024      0.006      0.398      0.691      -0.009       0.014\n",
      "home_ownership_MORTGAGE                       -1.9912      0.034    -59.433      0.000      -2.057      -1.926\n",
      "purpose_debt_consolidation                    -0.0568      0.031     -1.818      0.069      -0.118       0.004\n",
      "verification_status_Source Verified            0.1613      0.007     21.760      0.000       0.147       0.176\n",
      "emp_length_10+ years                          -0.0298      0.012     -2.495      0.013      -0.053      -0.006\n",
      "home_ownership_RENT                           -1.7366      0.034    -51.159      0.000      -1.803      -1.670\n",
      "purpose_credit_card                           -0.2068      0.032     -6.525      0.000      -0.269      -0.145\n",
      "verification_status_Verified                   0.1659      0.008     20.493      0.000       0.150       0.182\n",
      "home_ownership_OWN                            -1.8920      0.034    -55.038      0.000      -1.959      -1.825\n",
      "term_ 60 months                                0.8784      0.007    129.187      0.000       0.865       0.892\n",
      "emp_length_2 years                            -0.0415      0.014     -2.977      0.003      -0.069      -0.014\n",
      "emp_length_3 years                            -0.0337      0.014     -2.345      0.019      -0.062      -0.006\n",
      "emp_length_lessthan 1 year                     0.0195      0.014      1.362      0.173      -0.009       0.047\n",
      "purpose_home_improvement                       0.0887      0.033      2.670      0.008       0.024       0.154\n",
      "emp_length_5 years                            -0.0533      0.015     -3.466      0.001      -0.083      -0.023\n",
      "emp_length_4 years                            -0.0563      0.016     -3.619      0.000      -0.087      -0.026\n",
      "purpose_other                                  0.2172      0.033      6.557      0.000       0.152       0.282\n",
      "emp_length_6 years                            -0.0686      0.017     -4.093      0.000      -0.101      -0.036\n",
      "emp_length_8 years                            -0.0294      0.017     -1.755      0.079      -0.062       0.003\n",
      "emp_length_7 years                            -0.0643      0.017     -3.796      0.000      -0.097      -0.031\n",
      "emp_length_9 years                            -0.0003      0.018     -0.017      0.987      -0.035       0.034\n",
      "fico_range_low                                -0.1827      0.004    -45.749      0.000      -0.190      -0.175\n",
      "purpose_major_purchase                         0.1354      0.037      3.658      0.000       0.063       0.208\n",
      "acc_open_past_24mths                           0.2104      0.005     46.497      0.000       0.202       0.219\n",
      "dti                                            0.2322      0.005     49.671      0.000       0.223       0.241\n",
      "application_type_Joint App                    -0.1335      0.021     -6.445      0.000      -0.174      -0.093\n",
      "mort_acc                                      -0.1875      0.012    -15.370      0.000      -0.211      -0.164\n",
      "loan_amnt                                      0.2723      0.004     65.049      0.000       0.264       0.280\n",
      "total_bc_limit                                -0.1325      0.004    -30.528      0.000      -0.141      -0.124\n",
      "purpose_medical                                0.3315      0.041      8.152      0.000       0.252       0.411\n",
      "mo_sin_rcnt_tl                                -0.0283      0.004     -7.315      0.000      -0.036      -0.021\n",
      "mo_sin_old_rev_tl_op                          -0.0643      0.004    -18.278      0.000      -0.071      -0.057\n",
      "tot_cur_bal                                    0.0261      0.013      2.051      0.040       0.001       0.051\n",
      "inq_last_6mths                                 0.0855      0.003     28.571      0.000       0.080       0.091\n",
      "annual_inc                                    -0.1222      0.005    -24.206      0.000      -0.132      -0.112\n",
      "mths_since_recent_bc                          -0.0883      0.004    -20.834      0.000      -0.097      -0.080\n",
      "revol_util                                     0.1219      0.004     29.587      0.000       0.114       0.130\n",
      "purpose_vacation                               0.2615      0.047      5.533      0.000       0.169       0.354\n",
      "purpose_moving                                 0.3775      0.045      8.395      0.000       0.289       0.466\n",
      "purpose_house                                  0.1169      0.049      2.366      0.018       0.020       0.214\n",
      "purpose_small_business                         0.7100      0.040     17.754      0.000       0.632       0.788\n",
      "open_acc                                       0.0300      0.004      6.962      0.000       0.022       0.038\n",
      "mo_sin_old_il_acct                            -0.0408      0.003    -13.146      0.000      -0.047      -0.035\n",
      "pub_rec                                        0.0197      0.003      6.588      0.000       0.014       0.026\n",
      "tot_coll_amt                                   0.0012      0.003      0.400      0.689      -0.005       0.007\n",
      "purpose_wedding                               -0.3645      0.126     -2.895      0.004      -0.611      -0.118\n",
      "num_accts_ever_120_pd                          0.0063      0.004      1.684      0.092      -0.001       0.014\n",
      "delinq_2yrs                                    0.0710      0.003     21.519      0.000       0.065       0.077\n",
      "num_bc_tl                                     -0.0390      0.004     -9.253      0.000      -0.047      -0.031\n",
      "total_bal_ex_mort                             -0.0754      0.006    -11.715      0.000      -0.088      -0.063\n",
      "purpose_renewable_energy                       0.3452      0.111      3.098      0.002       0.127       0.564\n",
      "collections_12_mths_ex_med                     0.0172      0.003      6.316      0.000       0.012       0.023\n",
      "pct_tl_nvr_dlq                                 0.0035      0.004      0.830      0.407      -0.005       0.012\n",
      "mort_acc__tot_cur_bal                          0.0031      0.005      0.653      0.514      -0.006       0.012\n",
      "home_ownership_MORTGAGE__tot_cur_bal          -0.1122      0.013     -8.465      0.000      -0.138      -0.086\n",
      "home_ownership_MORTGAGE__mort_acc              0.0573      0.014      4.212      0.000       0.031       0.084\n",
      "acc_open_past_24mths__mo_sin_rcnt_tl          -0.0228      0.003     -6.569      0.000      -0.030      -0.016\n",
      "home_ownership_RENT__mort_acc                  0.1133      0.014      8.356      0.000       0.087       0.140\n",
      "home_ownership_RENT__tot_cur_bal              -0.0626      0.014     -4.339      0.000      -0.091      -0.034\n",
      "tot_cur_bal__total_bal_ex_mort                 0.0045      0.004      1.258      0.209      -0.003       0.012\n",
      "total_bc_limit__num_bc_tl                     -0.0003      0.003     -0.109      0.914      -0.006       0.005\n",
      "tot_cur_bal__annual_inc                       -0.0220      0.004     -4.983      0.000      -0.031      -0.013\n",
      "mo_sin_rcnt_tl__mths_since_recent_bc          -0.0161      0.004     -4.374      0.000      -0.023      -0.009\n",
      "dti__total_bal_ex_mort                         0.0204      0.003      8.012      0.000       0.015       0.025\n",
      "open_acc__num_bc_tl                            0.0062      0.003      1.991      0.046    9.77e-05       0.012\n",
      "open_acc__total_bal_ex_mort                    0.0009      0.003      0.292      0.770      -0.005       0.007\n",
      "loan_amnt__annual_inc                          0.0032      0.003      0.956      0.339      -0.003       0.010\n",
      "acc_open_past_24mths__mths_since_recent_bc    -0.0280      0.004     -6.642      0.000      -0.036      -0.020\n",
      "acc_open_past_24mths__open_acc                 0.0089      0.003      2.674      0.007       0.002       0.015\n",
      "annual_inc__total_bal_ex_mort                  0.0159      0.004      3.997      0.000       0.008       0.024\n",
      "loan_amnt__fico_range_low                     -0.0261      0.003     -8.650      0.000      -0.032      -0.020\n",
      "dti__fico_range_low                           -0.0093      0.003     -3.106      0.002      -0.015      -0.003\n",
      "==============================================================================================================\n"
     ]
    }
   ],
   "source": [
    "print(log_reg_mult.summary())"
   ]
  },
  {
   "cell_type": "markdown",
   "id": "1ed1b6d0",
   "metadata": {},
   "source": [
    "# Ridge Regression"
   ]
  },
  {
   "cell_type": "markdown",
   "id": "73c9ead8",
   "metadata": {},
   "source": [
    "Due to issues with multicollinearity, we tried ridge regression along with standard logistic regression to adjust for  the design matrix which is almost singular.  \n",
    "\n",
    "We obtain a balanced accuracy score of 0.65364, which slightly improves upon our multiple logistic model with interactions (0.65309)."
   ]
  },
  {
   "cell_type": "code",
   "execution_count": 35,
   "id": "5848268a",
   "metadata": {},
   "outputs": [],
   "source": [
    "splitdata=H.DataSplit(cleaned_data,0.1,0.1,seed=0)"
   ]
  },
  {
   "cell_type": "code",
   "execution_count": 36,
   "id": "aecfb9f0",
   "metadata": {},
   "outputs": [],
   "source": [
    "trainingdata = splitdata[0]\n",
    "validationdata = splitdata[1]\n",
    "testdata = splitdata[2]"
   ]
  },
  {
   "cell_type": "markdown",
   "id": "1ff9d4fa",
   "metadata": {},
   "source": [
    "## Parameter Fitting Code"
   ]
  },
  {
   "cell_type": "code",
   "execution_count": 37,
   "id": "1fdd5551",
   "metadata": {},
   "outputs": [],
   "source": [
    "# Used when fitting parameters\n",
    "# Cutting down training data size\n",
    "trainingdata = trainingdata.sample(frac=0.05, replace=False, random_state=1)\n",
    "validationdata =  validationdata.sample(frac=1, replace=False, random_state=1)\n",
    "testdata =  testdata.sample(frac=1, replace=False, random_state=1)"
   ]
  },
  {
   "cell_type": "code",
   "execution_count": 38,
   "id": "cc850f11",
   "metadata": {},
   "outputs": [],
   "source": [
    "# Set up statified data\n",
    "X_train = trainingdata.drop([\"loan_status\"],axis=1)\n",
    "y_train = trainingdata[[\"loan_status\"]]\n",
    "X_test = testdata.drop([\"loan_status\"],axis=1)\n",
    "y_test = testdata[[\"loan_status\"]]\n",
    "X_valid = validationdata.drop([\"loan_status\"],axis=1)\n",
    "y_valid = validationdata[[\"loan_status\"]]"
   ]
  },
  {
   "cell_type": "code",
   "execution_count": 39,
   "id": "4af80311",
   "metadata": {},
   "outputs": [],
   "source": [
    "def RidgeModelCV(X_train, y_train, X_valid, y_valid, alphas, weights):\n",
    "\n",
    "    #with parallel_backend('threading', n_jobs=8):\n",
    "\n",
    "        #10-fold Cross Validation to select the optimal penalty hyperparameter.\n",
    "        #cv = RepeatedKFold(n_splits=10, n_repeats=3, random_state=1)\n",
    "\n",
    "        #Setting up model with sklearn using the penalty score obtained.\n",
    "        #ridge_reg = RidgeClassifierCV(alphas=arange(1, 5, 0.1), cv=cv, scoring='neg_mean_absolute_error')\n",
    "\n",
    "    BA_scores = np.zeros((len(alphas),len(weights)))\n",
    "    rec_scores = np.zeros((len(alphas),len(weights)))\n",
    "                          \n",
    "    #Initialize our for loop to iterate through alpha values\n",
    "    for i in range(len(alphas)):\n",
    "        for j in range(len(weights)):\n",
    "            ridge_reg = RidgeClassifier(alpha=alphas[i],class_weight={0:1,1:weights[j]})\n",
    "\n",
    "            #Train the model.\n",
    "            ridge_reg.fit(X_train, y_train)\n",
    "\n",
    "            #Use the model to make prediction scores.\n",
    "            ridge_reg_preds = ridge_reg._predict_proba_lr(X_valid)\n",
    "            ridge_reg_preds = ridge_reg_preds[:,1]\n",
    "            \n",
    "            \n",
    "            #Calculate ideal probability thresholds for each lambda\n",
    "            ridge_reg_thresh = H.ROC_cutoff(ridge_reg_preds,y_valid, silence=True)\n",
    "            temp1 = ridge_reg_thresh[0]\n",
    "            temp2 = ridge_reg_thresh[1]\n",
    "            ridge_reg_thresh = temp1[temp2]\n",
    "            \n",
    "\n",
    "            ridge_reg_preds = (ridge_reg_preds >= ridge_reg_thresh).astype(int)\n",
    "\n",
    "            #Calculate balanced accuracy.\n",
    "            BA_scores[i][j] = balanced_accuracy_score(y_valid, ridge_reg_preds)\n",
    "            rec_scores[i][j] = confusion_matrix(y_valid, ridge_reg_preds)[1,1]/(confusion_matrix(y_valid, ridge_reg_preds)[1,1]+confusion_matrix(y_valid, ridge_reg_preds)[1,0])              \n",
    "\n",
    "    #Check if logistic.\n",
    "    best_alpha = alphas[np.argmax(np.max(BA_scores, axis=1))]\n",
    "    best_weight = weights[np.argmax(np.max(BA_scores, axis=0))]\n",
    "\n",
    "    return(best_alpha,best_weight)"
   ]
  },
  {
   "cell_type": "code",
   "execution_count": 40,
   "id": "8568e5eb",
   "metadata": {},
   "outputs": [
    {
     "name": "stderr",
     "output_type": "stream",
     "text": [
      "/usr/local/linux/anaconda3.8/lib/python3.8/site-packages/sklearn/utils/validation.py:73: DataConversionWarning: A column-vector y was passed when a 1d array was expected. Please change the shape of y to (n_samples, ), for example using ravel().\n",
      "  return f(**kwargs)\n",
      "/usr/local/linux/anaconda3.8/lib/python3.8/site-packages/sklearn/utils/validation.py:73: DataConversionWarning: A column-vector y was passed when a 1d array was expected. Please change the shape of y to (n_samples, ), for example using ravel().\n",
      "  return f(**kwargs)\n",
      "/usr/local/linux/anaconda3.8/lib/python3.8/site-packages/sklearn/utils/validation.py:73: DataConversionWarning: A column-vector y was passed when a 1d array was expected. Please change the shape of y to (n_samples, ), for example using ravel().\n",
      "  return f(**kwargs)\n",
      "/usr/local/linux/anaconda3.8/lib/python3.8/site-packages/sklearn/utils/validation.py:73: DataConversionWarning: A column-vector y was passed when a 1d array was expected. Please change the shape of y to (n_samples, ), for example using ravel().\n",
      "  return f(**kwargs)\n",
      "/usr/local/linux/anaconda3.8/lib/python3.8/site-packages/sklearn/utils/validation.py:73: DataConversionWarning: A column-vector y was passed when a 1d array was expected. Please change the shape of y to (n_samples, ), for example using ravel().\n",
      "  return f(**kwargs)\n",
      "/usr/local/linux/anaconda3.8/lib/python3.8/site-packages/sklearn/utils/validation.py:73: DataConversionWarning: A column-vector y was passed when a 1d array was expected. Please change the shape of y to (n_samples, ), for example using ravel().\n",
      "  return f(**kwargs)\n",
      "/usr/local/linux/anaconda3.8/lib/python3.8/site-packages/sklearn/utils/validation.py:73: DataConversionWarning: A column-vector y was passed when a 1d array was expected. Please change the shape of y to (n_samples, ), for example using ravel().\n",
      "  return f(**kwargs)\n",
      "/usr/local/linux/anaconda3.8/lib/python3.8/site-packages/sklearn/utils/validation.py:73: DataConversionWarning: A column-vector y was passed when a 1d array was expected. Please change the shape of y to (n_samples, ), for example using ravel().\n",
      "  return f(**kwargs)\n",
      "/usr/local/linux/anaconda3.8/lib/python3.8/site-packages/sklearn/utils/validation.py:73: DataConversionWarning: A column-vector y was passed when a 1d array was expected. Please change the shape of y to (n_samples, ), for example using ravel().\n",
      "  return f(**kwargs)\n",
      "/usr/local/linux/anaconda3.8/lib/python3.8/site-packages/sklearn/utils/validation.py:73: DataConversionWarning: A column-vector y was passed when a 1d array was expected. Please change the shape of y to (n_samples, ), for example using ravel().\n",
      "  return f(**kwargs)\n",
      "/usr/local/linux/anaconda3.8/lib/python3.8/site-packages/sklearn/utils/validation.py:73: DataConversionWarning: A column-vector y was passed when a 1d array was expected. Please change the shape of y to (n_samples, ), for example using ravel().\n",
      "  return f(**kwargs)\n",
      "/usr/local/linux/anaconda3.8/lib/python3.8/site-packages/sklearn/utils/validation.py:73: DataConversionWarning: A column-vector y was passed when a 1d array was expected. Please change the shape of y to (n_samples, ), for example using ravel().\n",
      "  return f(**kwargs)\n",
      "/usr/local/linux/anaconda3.8/lib/python3.8/site-packages/sklearn/utils/validation.py:73: DataConversionWarning: A column-vector y was passed when a 1d array was expected. Please change the shape of y to (n_samples, ), for example using ravel().\n",
      "  return f(**kwargs)\n",
      "/usr/local/linux/anaconda3.8/lib/python3.8/site-packages/sklearn/utils/validation.py:73: DataConversionWarning: A column-vector y was passed when a 1d array was expected. Please change the shape of y to (n_samples, ), for example using ravel().\n",
      "  return f(**kwargs)\n",
      "/usr/local/linux/anaconda3.8/lib/python3.8/site-packages/sklearn/utils/validation.py:73: DataConversionWarning: A column-vector y was passed when a 1d array was expected. Please change the shape of y to (n_samples, ), for example using ravel().\n",
      "  return f(**kwargs)\n",
      "/usr/local/linux/anaconda3.8/lib/python3.8/site-packages/sklearn/utils/validation.py:73: DataConversionWarning: A column-vector y was passed when a 1d array was expected. Please change the shape of y to (n_samples, ), for example using ravel().\n",
      "  return f(**kwargs)\n",
      "/usr/local/linux/anaconda3.8/lib/python3.8/site-packages/sklearn/utils/validation.py:73: DataConversionWarning: A column-vector y was passed when a 1d array was expected. Please change the shape of y to (n_samples, ), for example using ravel().\n",
      "  return f(**kwargs)\n",
      "/usr/local/linux/anaconda3.8/lib/python3.8/site-packages/sklearn/utils/validation.py:73: DataConversionWarning: A column-vector y was passed when a 1d array was expected. Please change the shape of y to (n_samples, ), for example using ravel().\n",
      "  return f(**kwargs)\n",
      "/usr/local/linux/anaconda3.8/lib/python3.8/site-packages/sklearn/utils/validation.py:73: DataConversionWarning: A column-vector y was passed when a 1d array was expected. Please change the shape of y to (n_samples, ), for example using ravel().\n",
      "  return f(**kwargs)\n",
      "/usr/local/linux/anaconda3.8/lib/python3.8/site-packages/sklearn/utils/validation.py:73: DataConversionWarning: A column-vector y was passed when a 1d array was expected. Please change the shape of y to (n_samples, ), for example using ravel().\n",
      "  return f(**kwargs)\n",
      "/usr/local/linux/anaconda3.8/lib/python3.8/site-packages/sklearn/utils/validation.py:73: DataConversionWarning: A column-vector y was passed when a 1d array was expected. Please change the shape of y to (n_samples, ), for example using ravel().\n",
      "  return f(**kwargs)\n",
      "/usr/local/linux/anaconda3.8/lib/python3.8/site-packages/sklearn/utils/validation.py:73: DataConversionWarning: A column-vector y was passed when a 1d array was expected. Please change the shape of y to (n_samples, ), for example using ravel().\n",
      "  return f(**kwargs)\n",
      "/usr/local/linux/anaconda3.8/lib/python3.8/site-packages/sklearn/utils/validation.py:73: DataConversionWarning: A column-vector y was passed when a 1d array was expected. Please change the shape of y to (n_samples, ), for example using ravel().\n",
      "  return f(**kwargs)\n",
      "/usr/local/linux/anaconda3.8/lib/python3.8/site-packages/sklearn/utils/validation.py:73: DataConversionWarning: A column-vector y was passed when a 1d array was expected. Please change the shape of y to (n_samples, ), for example using ravel().\n",
      "  return f(**kwargs)\n",
      "/usr/local/linux/anaconda3.8/lib/python3.8/site-packages/sklearn/utils/validation.py:73: DataConversionWarning: A column-vector y was passed when a 1d array was expected. Please change the shape of y to (n_samples, ), for example using ravel().\n",
      "  return f(**kwargs)\n",
      "/usr/local/linux/anaconda3.8/lib/python3.8/site-packages/sklearn/utils/validation.py:73: DataConversionWarning: A column-vector y was passed when a 1d array was expected. Please change the shape of y to (n_samples, ), for example using ravel().\n",
      "  return f(**kwargs)\n",
      "/usr/local/linux/anaconda3.8/lib/python3.8/site-packages/sklearn/utils/validation.py:73: DataConversionWarning: A column-vector y was passed when a 1d array was expected. Please change the shape of y to (n_samples, ), for example using ravel().\n",
      "  return f(**kwargs)\n",
      "/usr/local/linux/anaconda3.8/lib/python3.8/site-packages/sklearn/utils/validation.py:73: DataConversionWarning: A column-vector y was passed when a 1d array was expected. Please change the shape of y to (n_samples, ), for example using ravel().\n",
      "  return f(**kwargs)\n",
      "/usr/local/linux/anaconda3.8/lib/python3.8/site-packages/sklearn/utils/validation.py:73: DataConversionWarning: A column-vector y was passed when a 1d array was expected. Please change the shape of y to (n_samples, ), for example using ravel().\n",
      "  return f(**kwargs)\n",
      "/usr/local/linux/anaconda3.8/lib/python3.8/site-packages/sklearn/utils/validation.py:73: DataConversionWarning: A column-vector y was passed when a 1d array was expected. Please change the shape of y to (n_samples, ), for example using ravel().\n",
      "  return f(**kwargs)\n",
      "/usr/local/linux/anaconda3.8/lib/python3.8/site-packages/sklearn/utils/validation.py:73: DataConversionWarning: A column-vector y was passed when a 1d array was expected. Please change the shape of y to (n_samples, ), for example using ravel().\n",
      "  return f(**kwargs)\n",
      "/usr/local/linux/anaconda3.8/lib/python3.8/site-packages/sklearn/utils/validation.py:73: DataConversionWarning: A column-vector y was passed when a 1d array was expected. Please change the shape of y to (n_samples, ), for example using ravel().\n",
      "  return f(**kwargs)\n",
      "/usr/local/linux/anaconda3.8/lib/python3.8/site-packages/sklearn/utils/validation.py:73: DataConversionWarning: A column-vector y was passed when a 1d array was expected. Please change the shape of y to (n_samples, ), for example using ravel().\n",
      "  return f(**kwargs)\n",
      "/usr/local/linux/anaconda3.8/lib/python3.8/site-packages/sklearn/utils/validation.py:73: DataConversionWarning: A column-vector y was passed when a 1d array was expected. Please change the shape of y to (n_samples, ), for example using ravel().\n",
      "  return f(**kwargs)\n",
      "/usr/local/linux/anaconda3.8/lib/python3.8/site-packages/sklearn/utils/validation.py:73: DataConversionWarning: A column-vector y was passed when a 1d array was expected. Please change the shape of y to (n_samples, ), for example using ravel().\n",
      "  return f(**kwargs)\n",
      "/usr/local/linux/anaconda3.8/lib/python3.8/site-packages/sklearn/utils/validation.py:73: DataConversionWarning: A column-vector y was passed when a 1d array was expected. Please change the shape of y to (n_samples, ), for example using ravel().\n",
      "  return f(**kwargs)\n",
      "/usr/local/linux/anaconda3.8/lib/python3.8/site-packages/sklearn/utils/validation.py:73: DataConversionWarning: A column-vector y was passed when a 1d array was expected. Please change the shape of y to (n_samples, ), for example using ravel().\n",
      "  return f(**kwargs)\n",
      "/usr/local/linux/anaconda3.8/lib/python3.8/site-packages/sklearn/utils/validation.py:73: DataConversionWarning: A column-vector y was passed when a 1d array was expected. Please change the shape of y to (n_samples, ), for example using ravel().\n",
      "  return f(**kwargs)\n",
      "/usr/local/linux/anaconda3.8/lib/python3.8/site-packages/sklearn/utils/validation.py:73: DataConversionWarning: A column-vector y was passed when a 1d array was expected. Please change the shape of y to (n_samples, ), for example using ravel().\n",
      "  return f(**kwargs)\n",
      "/usr/local/linux/anaconda3.8/lib/python3.8/site-packages/sklearn/utils/validation.py:73: DataConversionWarning: A column-vector y was passed when a 1d array was expected. Please change the shape of y to (n_samples, ), for example using ravel().\n",
      "  return f(**kwargs)\n",
      "/usr/local/linux/anaconda3.8/lib/python3.8/site-packages/sklearn/utils/validation.py:73: DataConversionWarning: A column-vector y was passed when a 1d array was expected. Please change the shape of y to (n_samples, ), for example using ravel().\n",
      "  return f(**kwargs)\n",
      "/usr/local/linux/anaconda3.8/lib/python3.8/site-packages/sklearn/utils/validation.py:73: DataConversionWarning: A column-vector y was passed when a 1d array was expected. Please change the shape of y to (n_samples, ), for example using ravel().\n",
      "  return f(**kwargs)\n",
      "/usr/local/linux/anaconda3.8/lib/python3.8/site-packages/sklearn/utils/validation.py:73: DataConversionWarning: A column-vector y was passed when a 1d array was expected. Please change the shape of y to (n_samples, ), for example using ravel().\n",
      "  return f(**kwargs)\n",
      "/usr/local/linux/anaconda3.8/lib/python3.8/site-packages/sklearn/utils/validation.py:73: DataConversionWarning: A column-vector y was passed when a 1d array was expected. Please change the shape of y to (n_samples, ), for example using ravel().\n",
      "  return f(**kwargs)\n",
      "/usr/local/linux/anaconda3.8/lib/python3.8/site-packages/sklearn/utils/validation.py:73: DataConversionWarning: A column-vector y was passed when a 1d array was expected. Please change the shape of y to (n_samples, ), for example using ravel().\n",
      "  return f(**kwargs)\n",
      "/usr/local/linux/anaconda3.8/lib/python3.8/site-packages/sklearn/utils/validation.py:73: DataConversionWarning: A column-vector y was passed when a 1d array was expected. Please change the shape of y to (n_samples, ), for example using ravel().\n",
      "  return f(**kwargs)\n",
      "/usr/local/linux/anaconda3.8/lib/python3.8/site-packages/sklearn/utils/validation.py:73: DataConversionWarning: A column-vector y was passed when a 1d array was expected. Please change the shape of y to (n_samples, ), for example using ravel().\n",
      "  return f(**kwargs)\n",
      "/usr/local/linux/anaconda3.8/lib/python3.8/site-packages/sklearn/utils/validation.py:73: DataConversionWarning: A column-vector y was passed when a 1d array was expected. Please change the shape of y to (n_samples, ), for example using ravel().\n",
      "  return f(**kwargs)\n",
      "/usr/local/linux/anaconda3.8/lib/python3.8/site-packages/sklearn/utils/validation.py:73: DataConversionWarning: A column-vector y was passed when a 1d array was expected. Please change the shape of y to (n_samples, ), for example using ravel().\n",
      "  return f(**kwargs)\n",
      "/usr/local/linux/anaconda3.8/lib/python3.8/site-packages/sklearn/utils/validation.py:73: DataConversionWarning: A column-vector y was passed when a 1d array was expected. Please change the shape of y to (n_samples, ), for example using ravel().\n",
      "  return f(**kwargs)\n",
      "/usr/local/linux/anaconda3.8/lib/python3.8/site-packages/sklearn/utils/validation.py:73: DataConversionWarning: A column-vector y was passed when a 1d array was expected. Please change the shape of y to (n_samples, ), for example using ravel().\n",
      "  return f(**kwargs)\n",
      "/usr/local/linux/anaconda3.8/lib/python3.8/site-packages/sklearn/utils/validation.py:73: DataConversionWarning: A column-vector y was passed when a 1d array was expected. Please change the shape of y to (n_samples, ), for example using ravel().\n",
      "  return f(**kwargs)\n",
      "/usr/local/linux/anaconda3.8/lib/python3.8/site-packages/sklearn/utils/validation.py:73: DataConversionWarning: A column-vector y was passed when a 1d array was expected. Please change the shape of y to (n_samples, ), for example using ravel().\n",
      "  return f(**kwargs)\n",
      "/usr/local/linux/anaconda3.8/lib/python3.8/site-packages/sklearn/utils/validation.py:73: DataConversionWarning: A column-vector y was passed when a 1d array was expected. Please change the shape of y to (n_samples, ), for example using ravel().\n",
      "  return f(**kwargs)\n",
      "/usr/local/linux/anaconda3.8/lib/python3.8/site-packages/sklearn/utils/validation.py:73: DataConversionWarning: A column-vector y was passed when a 1d array was expected. Please change the shape of y to (n_samples, ), for example using ravel().\n",
      "  return f(**kwargs)\n",
      "/usr/local/linux/anaconda3.8/lib/python3.8/site-packages/sklearn/utils/validation.py:73: DataConversionWarning: A column-vector y was passed when a 1d array was expected. Please change the shape of y to (n_samples, ), for example using ravel().\n",
      "  return f(**kwargs)\n",
      "/usr/local/linux/anaconda3.8/lib/python3.8/site-packages/sklearn/utils/validation.py:73: DataConversionWarning: A column-vector y was passed when a 1d array was expected. Please change the shape of y to (n_samples, ), for example using ravel().\n",
      "  return f(**kwargs)\n",
      "/usr/local/linux/anaconda3.8/lib/python3.8/site-packages/sklearn/utils/validation.py:73: DataConversionWarning: A column-vector y was passed when a 1d array was expected. Please change the shape of y to (n_samples, ), for example using ravel().\n",
      "  return f(**kwargs)\n",
      "/usr/local/linux/anaconda3.8/lib/python3.8/site-packages/sklearn/utils/validation.py:73: DataConversionWarning: A column-vector y was passed when a 1d array was expected. Please change the shape of y to (n_samples, ), for example using ravel().\n",
      "  return f(**kwargs)\n",
      "/usr/local/linux/anaconda3.8/lib/python3.8/site-packages/sklearn/utils/validation.py:73: DataConversionWarning: A column-vector y was passed when a 1d array was expected. Please change the shape of y to (n_samples, ), for example using ravel().\n",
      "  return f(**kwargs)\n"
     ]
    }
   ],
   "source": [
    "alphas = np.arange(0, 5, 0.25)\n",
    "weights = np.array([1,3,5])\n",
    "best_alpha,best_weight = RidgeModelCV(X_train, y_train, X_valid, y_valid, alphas, weights)"
   ]
  },
  {
   "cell_type": "code",
   "execution_count": 41,
   "id": "6aa2bcb3",
   "metadata": {},
   "outputs": [
    {
     "name": "stdout",
     "output_type": "stream",
     "text": [
      "Best Alpha: 0.0\n",
      "Best Weight: 5\n"
     ]
    }
   ],
   "source": [
    "print(\"Best Alpha:\",best_alpha)\n",
    "print(\"Best Weight:\",best_weight)"
   ]
  },
  {
   "cell_type": "markdown",
   "id": "3485dc8c",
   "metadata": {},
   "source": [
    "## Full Data Set Prediction"
   ]
  },
  {
   "cell_type": "code",
   "execution_count": 42,
   "id": "4afaa8f7",
   "metadata": {},
   "outputs": [
    {
     "name": "stderr",
     "output_type": "stream",
     "text": [
      "/usr/local/linux/anaconda3.8/lib/python3.8/site-packages/sklearn/utils/validation.py:73: DataConversionWarning: A column-vector y was passed when a 1d array was expected. Please change the shape of y to (n_samples, ), for example using ravel().\n",
      "  return f(**kwargs)\n"
     ]
    },
    {
     "data": {
      "text/plain": [
       "RidgeClassifier(alpha=0.0, class_weight={0: 1, 1: 5})"
      ]
     },
     "execution_count": 42,
     "metadata": {},
     "output_type": "execute_result"
    },
    {
     "name": "stdout",
     "output_type": "stream",
     "text": [
      "Balanced Accuracy: 0.6536486257215158\n"
     ]
    }
   ],
   "source": [
    "#Running Ridge Reg on full dataset on optimized hyperparameters\n",
    "trainingdata = splitdata[0]\n",
    "validationdata = splitdata[1]\n",
    "testdata = splitdata[2]\n",
    "# Set up statified data\n",
    "X_train = trainingdata.drop([\"loan_status\"],axis=1)\n",
    "y_train = trainingdata[[\"loan_status\"]]\n",
    "X_test = testdata.drop([\"loan_status\"],axis=1)\n",
    "y_test = testdata[[\"loan_status\"]]\n",
    "X_valid = validationdata.drop([\"loan_status\"],axis=1)\n",
    "y_valid = validationdata[[\"loan_status\"]]\n",
    "\n",
    "ridge_reg = RidgeClassifier(alpha=best_alpha,class_weight={0:1,1:best_weight})\n",
    "\n",
    "#Train the model.\n",
    "ridge_reg.fit(X_train, y_train)\n",
    "\n",
    "#Use the model to make prediction scores.\n",
    "ridge_reg_preds = ridge_reg._predict_proba_lr(X_test)\n",
    "ridge_reg_preds = ridge_reg_preds[:,1]\n",
    "\n",
    "#Calculate ideal probability thresholds for each lambda\n",
    "ridge_reg_thresh = H.ROC_cutoff(ridge_reg_preds,y_test, silence=True)\n",
    "temp1 = ridge_reg_thresh[0]\n",
    "temp2 = ridge_reg_thresh[1]\n",
    "ridge_reg_thresh = temp1[temp2]\n",
    "            \n",
    "\n",
    "ridge_reg_preds = (ridge_reg_preds >= ridge_reg_thresh).astype(int)\n",
    "\n",
    "#Calculate balanced accuracy.\n",
    "print(\"Balanced Accuracy:\",balanced_accuracy_score(y_test, ridge_reg_preds))"
   ]
  },
  {
   "cell_type": "markdown",
   "id": "76fdb1db",
   "metadata": {},
   "source": [
    "## XGBoost"
   ]
  },
  {
   "cell_type": "markdown",
   "id": "2eed8962",
   "metadata": {},
   "source": [
    "Due to the large number of covariates and our suspicion of non-linear relationships and collinearity within the data, we also wanted to try more advanced machine learning models. Our first approach is XGBoost (extreme gradient boosting) due to its performance on large data sets and data with outliers."
   ]
  },
  {
   "cell_type": "code",
   "execution_count": 43,
   "id": "d1e2f74d",
   "metadata": {},
   "outputs": [],
   "source": [
    "splitdata=H.DataSplit(cleaned_data,0.1,0.1,seed=0)"
   ]
  },
  {
   "cell_type": "code",
   "execution_count": 44,
   "id": "fe20f205",
   "metadata": {},
   "outputs": [],
   "source": [
    "trainingdata = splitdata[0]\n",
    "validationdata = splitdata[1]\n",
    "testdata = splitdata[2]"
   ]
  },
  {
   "cell_type": "markdown",
   "id": "967511ab",
   "metadata": {},
   "source": [
    "## Parameter Fitting Code"
   ]
  },
  {
   "cell_type": "markdown",
   "id": "d7f8d1d6",
   "metadata": {},
   "source": [
    "This does not need to be run. Note that this code is time consuming.  \n",
    "\n",
    "XGBoost has two main parameters that require tuning: max_depth and eta. We perform a grid search to find the best values for each, which turn out to be max_depth = 2 and eta = 0.3."
   ]
  },
  {
   "cell_type": "code",
   "execution_count": null,
   "id": "2e8078a7",
   "metadata": {},
   "outputs": [],
   "source": [
    "# Used when fitting parameters\n",
    "# Cutting down training data size\n",
    "trainingdata = trainingdata.sample(frac=0.05, replace=False, random_state=1)\n",
    "validationdata =  validationdata.sample(frac=1, replace=False, random_state=1)\n",
    "testdata =  testdata.sample(frac=1, replace=False, random_state=1)"
   ]
  },
  {
   "cell_type": "code",
   "execution_count": null,
   "id": "7a198f6b",
   "metadata": {},
   "outputs": [],
   "source": [
    "# Set up statified data\n",
    "X_train= trainingdata.drop([\"loan_status\"],axis=1)\n",
    "y_train = trainingdata[[\"loan_status\"]]\n",
    "X_test = testdata.drop([\"loan_status\"],axis=1)\n",
    "y_test = testdata[[\"loan_status\"]]\n",
    "X_valid = validationdata.drop([\"loan_status\"],axis=1)\n",
    "y_valid = validationdata[[\"loan_status\"]]"
   ]
  },
  {
   "cell_type": "code",
   "execution_count": null,
   "id": "00bf5402",
   "metadata": {},
   "outputs": [],
   "source": [
    "# Code for parameter fitting\n",
    "# May take a while to run\n",
    "accur = [0]*100\n",
    "FN = [0]*100\n",
    "FP = [0]*100\n",
    "F1 = [0]*100\n",
    "prec = [0]*100\n",
    "recal = [0]*100\n",
    "BA = [0]*100\n",
    "for i in range(1,11):\n",
    "    for j in range(1,11):\n",
    "        xgb_cl = xgb.XGBClassifier(use_label_encoder=False,booster='gbtree',verbosity=0,max_depth=i,eta=0.1*j,gamma=0)\n",
    "        model = xgb_cl.fit(X_train,y_train)\n",
    "        xgb_val = model.predict_proba(X_valid)[:,1]\n",
    "        ROC=H.ROC_cutoff(xgb_val,y_valid, silence = True)\n",
    "        thresholds = ROC[0]\n",
    "        threshold = thresholds[ROC[1]]\n",
    "        preds = (xgb_val >= threshold).astype(int)\n",
    "        BA[10*(i-1)+(j-1)] = balanced_accuracy_score(y_valid, preds)"
   ]
  },
  {
   "cell_type": "code",
   "execution_count": null,
   "id": "e9cc5bbf",
   "metadata": {},
   "outputs": [],
   "source": [
    "#BA.index(max(BA))\n",
    "#max(BA)\n",
    "eta = int(BA.index(max(BA)) % 10 + 1)\n",
    "max_depth = int((BA.index(max(BA))-(eta-1))/10)+1\n",
    "print(\"Optimum Max Depth:\",max_depth)\n",
    "print(\"Optimum Eta:\",eta/10)"
   ]
  },
  {
   "cell_type": "markdown",
   "id": "cbaf2dfa",
   "metadata": {},
   "source": [
    "## Full Data Set Prediction"
   ]
  },
  {
   "cell_type": "code",
   "execution_count": 45,
   "id": "392dc3ae",
   "metadata": {},
   "outputs": [],
   "source": [
    "trainingdata = splitdata[0]\n",
    "validationdata = splitdata[1]\n",
    "testdata = splitdata[2]"
   ]
  },
  {
   "cell_type": "code",
   "execution_count": 46,
   "id": "b605a88f",
   "metadata": {},
   "outputs": [],
   "source": [
    "# Set up statified data\n",
    "X_train= trainingdata.drop([\"loan_status\"],axis=1)\n",
    "y_train = trainingdata[[\"loan_status\"]]\n",
    "X_test = testdata.drop([\"loan_status\"],axis=1)\n",
    "y_test = testdata[[\"loan_status\"]]\n",
    "X_valid = validationdata.drop([\"loan_status\"],axis=1)\n",
    "y_valid = validationdata[[\"loan_status\"]]"
   ]
  },
  {
   "cell_type": "code",
   "execution_count": 47,
   "id": "bf71a16f",
   "metadata": {},
   "outputs": [
    {
     "name": "stderr",
     "output_type": "stream",
     "text": [
      "/usr/local/linux/anaconda3.8/lib/python3.8/site-packages/sklearn/utils/validation.py:73: DataConversionWarning: A column-vector y was passed when a 1d array was expected. Please change the shape of y to (n_samples, ), for example using ravel().\n",
      "  return f(**kwargs)\n"
     ]
    }
   ],
   "source": [
    "# Fitting the full model - this may take several minutes\n",
    "xgb_cl = xgb.XGBClassifier(use_label_encoder=False,booster='gbtree',verbosity=0,max_depth=2,eta=0.3,gamma=0)\n",
    "model = xgb_cl.fit(X_train,y_train)"
   ]
  },
  {
   "cell_type": "code",
   "execution_count": 48,
   "id": "33a0ce64",
   "metadata": {},
   "outputs": [],
   "source": [
    "#ROC cutoff\n",
    "xgb_val = model.predict_proba(X_valid)[:,1]\n",
    "ROC=H.ROC_cutoff(xgb_val,y_valid, silence = True)\n",
    "thresholds = ROC[0]\n",
    "threshold = thresholds[ROC[1]]"
   ]
  },
  {
   "cell_type": "code",
   "execution_count": 49,
   "id": "8a283324",
   "metadata": {},
   "outputs": [],
   "source": [
    "#Check Model Accuracy\n",
    "xgb_preds = (model.predict_proba(X_test)[:,1] >= threshold).astype(int)\n",
    "xgb_prec = confusion_matrix(y_test, xgb_preds)[1,1]/(confusion_matrix(y_test, xgb_preds)[1,1]+confusion_matrix(y_test, xgb_preds)[0,1])\n",
    "xgb_recal = confusion_matrix(y_test, xgb_preds)[1,1]/(confusion_matrix(y_test, xgb_preds)[1,1]+confusion_matrix(y_test, xgb_preds)[1,0])\n",
    "xgb_F1 = 2 * xgb_prec * xgb_recal/(xgb_prec+xgb_recal)\n",
    "xgb_BA = balanced_accuracy_score(y_test, xgb_preds)"
   ]
  },
  {
   "cell_type": "code",
   "execution_count": 50,
   "id": "c624b002",
   "metadata": {},
   "outputs": [
    {
     "name": "stdout",
     "output_type": "stream",
     "text": [
      "XGB Balanced Accuracy: 0.6575986835992438\n",
      "XGB F1: 0.4235712206853239\n",
      "XGB Recall: 0.6618794580879889\n"
     ]
    }
   ],
   "source": [
    "print('XGB Balanced Accuracy:',xgb_BA)\n",
    "print('XGB F1:',xgb_F1)\n",
    "print('XGB Recall:',xgb_recal)"
   ]
  },
  {
   "cell_type": "code",
   "execution_count": 51,
   "metadata": {},
   "outputs": [
    {
     "data": {
      "text/plain": [
       "<matplotlib.axes._subplots.AxesSubplot at 0x7fb9f7b92850>"
      ]
     },
     "execution_count": 51,
     "metadata": {},
     "output_type": "execute_result"
    },
    {
     "data": {
      "image/png": "[encoded data removed]",
      "text/plain": [
       "<Figure size 432x432 with 1 Axes>"
      ]
     },
     "metadata": {
      "needs_background": "light"
     },
     "output_type": "display_data"
    }
   ],
   "source": [
    "#Feature Importance\n",
    "params = {'axes.labelsize': 20,'axes.titlesize':20, 'font.size': 12, 'xtick.labelsize': 12, 'ytick.labelsize': 10}\n",
    "ax = plt.rcParams.update(params)\n",
    "fig, ax = plt.subplots(figsize=(6,6))\n",
    "xgb.plot_importance(model,max_num_features=15,ax=ax)"
   ]
  },
  {
   "cell_type": "markdown",
   "id": "05efb052",
   "metadata": {},
   "source": [
    "## Support Vector Machine (SVM)"
   ]
  },
  {
   "cell_type": "markdown",
   "id": "4662bc56",
   "metadata": {},
   "source": [
    "We also applied a support vector machine (SVM) model. However due to the non-linear verisons uninterprebility we only experimented with linear SVM. In addition, training SVMs becomes extremely computationally expensive for larger datasets, so we train the data on a sample of 5% of the original training set."
   ]
  },
  {
   "cell_type": "code",
   "execution_count": 52,
   "id": "afc99dd5",
   "metadata": {},
   "outputs": [],
   "source": [
    "splitdata=H.DataSplit(cleaned_data,0.1,0.1,seed=0)"
   ]
  },
  {
   "cell_type": "code",
   "execution_count": 53,
   "id": "29dd0f0b",
   "metadata": {},
   "outputs": [],
   "source": [
    "trainingdata = splitdata[0]\n",
    "validationdata = splitdata[1]\n",
    "testdata = splitdata[2]"
   ]
  },
  {
   "cell_type": "code",
   "execution_count": 54,
   "metadata": {},
   "outputs": [],
   "source": [
    "# Used when fitting parameters\n",
    "# Cutting down training data size\n",
    "trainingdata = trainingdata.sample(frac=0.01, replace=False, random_state=1)\n",
    "validationdata =  validationdata.sample(frac=1, replace=False, random_state=1)\n",
    "testdata =  testdata.sample(frac=1, replace=False, random_state=1)"
   ]
  },
  {
   "cell_type": "code",
   "execution_count": 55,
   "metadata": {},
   "outputs": [],
   "source": [
    "# Set up statified data\n",
    "X_train = trainingdata.drop([\"loan_status\"],axis=1)\n",
    "y_train = trainingdata[[\"loan_status\"]]\n",
    "X_test = testdata.drop([\"loan_status\"],axis=1)\n",
    "y_test = testdata[[\"loan_status\"]]\n",
    "X_valid = validationdata.drop([\"loan_status\"],axis=1)\n",
    "y_valid = validationdata[[\"loan_status\"]]"
   ]
  },
  {
   "cell_type": "markdown",
   "id": "009403e8",
   "metadata": {},
   "source": [
    "## Parameter Fitting Code"
   ]
  },
  {
   "cell_type": "markdown",
   "metadata": {},
   "source": [
    "This does not need to be run. Note that this code is time consuming.\n",
    "\n",
    "We perform a grid search to find the best values for C and Class_Score, which turn out to be C = 0.01 and Class_Score = 5.\n"
   ]
  },
  {
   "cell_type": "code",
   "execution_count": null,
   "id": "4139a69a",
   "metadata": {},
   "outputs": [],
   "source": [
    "# Warning: This may take around half an hour to run\n",
    "from statistics import mean\n",
    "# With cross validation\n",
    "k = 10\n",
    "rng = np.random.default_rng(1) #setting the seed - for reproducability\n",
    "shuffle = rng.choice(len(X_train), size=len(X_train), replace=False)\n",
    "C = [10**-2,10**-1,0.5,1]\n",
    "Class_Score = [4,5,6]\n",
    "#C = [1,2]\n",
    "#Class_Score = [1,2]\n",
    "\n",
    "BA_scores = np.zeros((len(C),len(Class_Score)))\n",
    "rec_scores = np.zeros((len(C),len(Class_Score)))\n",
    "\n",
    "for c in range(len(C)):\n",
    "    for s in range(len(Class_Score)):\n",
    "        val_BA_list = []\n",
    "        val_rec_list = []\n",
    "        for i in range(k):\n",
    "            svm_train_rows = shuffle[i:(i+1)*round(len(X_train)/k)]\n",
    "\n",
    "            svm_X_train = X_train.iloc[svm_train_rows]\n",
    "            svm_y_train = y_train.iloc[svm_train_rows]\n",
    "\n",
    "            clf = svm.LinearSVC(C = C[c],class_weight={0:1,1:Class_Score[s]})\n",
    "            clf.fit(svm_X_train,np.ravel(svm_y_train))\n",
    "            svm_preds = clf.predict(X_valid)\n",
    "            val_BA_list.append(balanced_accuracy_score(y_valid, svm_preds))\n",
    "            val_rec_list.append(confusion_matrix(y_valid, svm_preds)[1,1]/(confusion_matrix(y_valid, svm_preds)[1,1]+confusion_matrix(y_valid, svm_preds)[1,0]))\n",
    "        #print(c, mean(val_BA_list), mean(val_rec_list))\n",
    "        BA_scores[c][s] = mean(val_BA_list)\n",
    "        rec_scores[c][s] = mean(val_rec_list)"
   ]
  },
  {
   "cell_type": "code",
   "execution_count": null,
   "id": "ad2ceb76",
   "metadata": {},
   "outputs": [],
   "source": [
    "print(BA_scores)\n",
    "print(rec_scores)"
   ]
  },
  {
   "cell_type": "code",
   "execution_count": null,
   "id": "45148ac5",
   "metadata": {},
   "outputs": [],
   "source": [
    "# SPAM scores plot\n",
    "params = {'axes.labelsize': 10,'axes.titlesize':20, 'font.size': 10, 'xtick.labelsize': 10, 'ytick.labelsize': 10}\n",
    "for i in range(len(Class_Score)):\n",
    "    ax = plt.rcParams.update(params)\n",
    "    ax = plt.figure(figsize=(6,6))\n",
    "    ax = plt.scatter(range(len(rec_scores[:,i])),BA_scores[:,i])\n",
    "    ax = plt.scatter(range(len(rec_scores[:,i])),rec_scores[:,i])\n",
    "    ax = plt.plot(range(len(rec_scores[:,i])),BA_scores[:,i],label = \"Balanced Accuracy Scores\")\n",
    "    ax = plt.plot(range(len(rec_scores[:,i])),rec_scores[:,i],label = \"Recall Scores\")\n",
    "    ax = plt.title(\"SVM CV Scores (Class Score = \" + str(Class_Score[i]) + \")\")\n",
    "    ax = plt.xlabel(\"Number of Data Points (C = [10^-2,10^-1,0.5,1])\")\n",
    "    ax = plt.ylabel(\"Scores\")\n",
    "    ax = plt.legend()\n",
    "    plt.show()"
   ]
  },
  {
   "cell_type": "code",
   "execution_count": 56,
   "metadata": {},
   "outputs": [
    {
     "name": "stdout",
     "output_type": "stream",
     "text": [
      "Best C: 0.01\n",
      "Best Class Score: 5\n"
     ]
    }
   ],
   "source": [
    "# best_C = C[np.argmax(np.max(BA_scores, axis=1))]\n",
    "# best_Class_Score = Class_Score[np.argmax(np.max(BA_scores, axis=0))]\n",
    "best_C = 0.01\n",
    "best_Class_Score = 5\n",
    "print(\"Best C:\", best_C)\n",
    "print(\"Best Class Score:\", best_Class_Score)"
   ]
  },
  {
   "cell_type": "markdown",
   "id": "35b4a1dd",
   "metadata": {},
   "source": [
    "## Full Data Set Prediction"
   ]
  },
  {
   "cell_type": "code",
   "execution_count": 57,
   "id": "4dbcce57",
   "metadata": {},
   "outputs": [
    {
     "name": "stderr",
     "output_type": "stream",
     "text": [
      "/usr/local/linux/anaconda3.8/lib/python3.8/site-packages/sklearn/svm/_base.py:976: ConvergenceWarning: Liblinear failed to converge, increase the number of iterations.\n",
      "  warnings.warn(\"Liblinear failed to converge, increase \"\n"
     ]
    },
    {
     "data": {
      "text/plain": [
       "LinearSVC(C=0.01, class_weight={0: 1, 1: 5})"
      ]
     },
     "execution_count": 57,
     "metadata": {},
     "output_type": "execute_result"
    },
    {
     "name": "stdout",
     "output_type": "stream",
     "text": [
      "acc 0.6143661403605288\n",
      "FN 6228\n",
      "FP 35830\n",
      "prec 0.29036858053910597\n",
      "rec 0.7018526497199483\n",
      "BA 0.6477462130343585\n"
     ]
    }
   ],
   "source": [
    "clf = svm.LinearSVC(C = best_C,class_weight={0:1,1:best_Class_Score})\n",
    "clf.fit(X_train,np.ravel(y_train))\n",
    "svm_preds = clf.predict(X_test)\n",
    "\n",
    "print(\"acc\", accuracy_score(y_test, svm_preds))\n",
    "print(\"FN\", confusion_matrix(y_test, svm_preds)[1,0])\n",
    "print(\"FP\", confusion_matrix(y_test, svm_preds)[0,1])\n",
    "print(\"prec\", confusion_matrix(y_test, svm_preds)[1,1]/(confusion_matrix(y_test, svm_preds)[1,1]+confusion_matrix(y_test, svm_preds)[0,1]))\n",
    "print(\"rec\", confusion_matrix(y_test, svm_preds)[1,1]/(confusion_matrix(y_test, svm_preds)[1,1]+confusion_matrix(y_test, svm_preds)[1,0]))\n",
    "#print(\"F1\", 2 * prec[i-1] * recal[i-1]/(prec[i-1]+recal[i-1]))\n",
    "print(\"BA\", balanced_accuracy_score(y_test, svm_preds))"
   ]
  },
  {
   "cell_type": "markdown",
   "id": "4aad322d",
   "metadata": {},
   "source": [
    "## SVM Coefficient Importance Plot"
   ]
  },
  {
   "cell_type": "code",
   "execution_count": 58,
   "id": "f16445e7",
   "metadata": {},
   "outputs": [
    {
     "data": {
      "image/png": "[encoded data removed]",
      "text/plain": [
       "<Figure size 1080x360 with 1 Axes>"
      ]
     },
     "metadata": {
      "needs_background": "light"
     },
     "output_type": "display_data"
    }
   ],
   "source": [
    "def plot_coefficients(classifier, feature_names, top_features=20):\n",
    "    coef = classifier.coef_.ravel()\n",
    "    top_positive_coefficients = np.argsort(coef)[-top_features:]\n",
    "    top_negative_coefficients = np.argsort(coef)[:top_features]\n",
    "    top_coefficients = np.hstack([top_negative_coefficients, top_positive_coefficients])\n",
    "    # create plot\n",
    "    plt.figure(figsize=(15, 5))\n",
    "    colors = ['red'if c < 0 else 'blue' for c in coef[top_coefficients]]\n",
    "    plt.bar(np.arange(2 * top_features), coef[top_coefficients], color=colors)\n",
    "    feature_names = np.array(feature_names)\n",
    "    plt.xticks(np.arange(1, 1 + 2 * top_features), feature_names[top_coefficients], rotation=60, ha='right')\n",
    "    plt.show()\n",
    "plot_coefficients(clf, X_train.columns)"
   ]
  },
  {
   "cell_type": "markdown",
   "metadata": {},
   "source": [
    "We obtain a maximum balanced accuracy score of 0.64775, which is lower than our previous models. The SVM model assigns importance to features differently from previous models, but certain features remain similarly important, such as FICO score, annual income, dti, and loan amount."
   ]
  }
 ],
 "metadata": {
  "kernelspec": {
   "display_name": "Python 3.8",
   "language": "python",
   "name": "python3"
  },
  "language_info": {
   "codemirror_mode": {
    "name": "ipython",
    "version": 3
   },
   "file_extension": ".py",
   "mimetype": "text/x-python",
   "name": "python",
   "nbconvert_exporter": "python",
   "pygments_lexer": "ipython3",
   "version": "3.8.3"
  }
 },
 "nbformat": 4,
 "nbformat_minor": 5
}
